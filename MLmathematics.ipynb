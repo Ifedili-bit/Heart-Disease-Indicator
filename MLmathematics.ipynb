{
 "cells": [
  {
   "cell_type": "code",
   "execution_count": 1,
   "id": "04e8d7b6-b758-45ea-91e2-fc5ef374a520",
   "metadata": {},
   "outputs": [],
   "source": [
    "import numpy as np"
   ]
  },
  {
   "cell_type": "code",
   "execution_count": 3,
   "id": "1ef7e9cc-1387-4224-b4f4-1409ba2c3607",
   "metadata": {},
   "outputs": [],
   "source": [
    "u = np.array([2, 4, 5])\n",
    "v = np.array([3, 4, 5])"
   ]
  },
  {
   "cell_type": "code",
   "execution_count": 21,
   "id": "bdd89d07-af92-4ffa-887a-d5c4188b9d0d",
   "metadata": {},
   "outputs": [],
   "source": [
    "result = np.cross(u, v)"
   ]
  },
  {
   "cell_type": "code",
   "execution_count": 23,
   "id": "524a3fb1-3c90-40ec-a700-e3e14135f7b5",
   "metadata": {},
   "outputs": [
    {
     "name": "stdout",
     "output_type": "stream",
     "text": [
      "[ 0  5 -4]\n"
     ]
    }
   ],
   "source": [
    "print(result)"
   ]
  },
  {
   "cell_type": "code",
   "execution_count": null,
   "id": "09119248-9a77-4508-b1d5-f0def5978087",
   "metadata": {},
   "outputs": [],
   "source": []
  }
 ],
 "metadata": {
  "kernelspec": {
   "display_name": "Python [conda env:base] *",
   "language": "python",
   "name": "conda-base-py"
  },
  "language_info": {
   "codemirror_mode": {
    "name": "ipython",
    "version": 3
   },
   "file_extension": ".py",
   "mimetype": "text/x-python",
   "name": "python",
   "nbconvert_exporter": "python",
   "pygments_lexer": "ipython3",
   "version": "3.12.7"
  }
 },
 "nbformat": 4,
 "nbformat_minor": 5
}
