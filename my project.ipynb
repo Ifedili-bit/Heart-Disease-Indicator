{
 "cells": [
  {
   "cell_type": "code",
   "execution_count": 68,
   "id": "08c46426-aad0-4dc7-b8c0-0f3782ff1ab8",
   "metadata": {},
   "outputs": [],
   "source": [
    "import numpy as np"
   ]
  },
  {
   "cell_type": "code",
   "execution_count": 86,
   "id": "f950fddb-7ed9-4724-830d-669be65fce1b",
   "metadata": {},
   "outputs": [
    {
     "name": "stdout",
     "output_type": "stream",
     "text": [
      "[ 30  70 117]\n"
     ]
    }
   ],
   "source": [
    "x = [[1, 2, 3, 4],\n",
    "     [5, 6, 7, 8],\n",
    "     [9, 10, 12, 13]]\n",
    "w = [1, 2, 3, 4]\n",
    "b = 0\n",
    "y =  [0, 0, 0]\n",
    "f_wb = np.dot(x, w)\n",
    "print(f_wb)"
   ]
  },
  {
   "cell_type": "code",
   "execution_count": 98,
   "id": "7bc1049f-2997-49cd-a0a5-d8bc2d2e8475",
   "metadata": {},
   "outputs": [],
   "source": [
    "def cost_func(x, y, w, b):\n",
    "    m = len(x)\n",
    "    f_wb = np.dot(x, w) + b\n",
    "    cost = f_wb - y\n",
    "    total_cost = (np.sum(cost)) / (2 * m)\n",
    "    return total_cost"
   ]
  },
  {
   "cell_type": "code",
   "execution_count": 100,
   "id": "4f94b9ee-acb1-47c2-b6c6-e2391e2bbd17",
   "metadata": {},
   "outputs": [
    {
     "name": "stdout",
     "output_type": "stream",
     "text": [
      "36.166666666666664\n"
     ]
    }
   ],
   "source": [
    "z = cost_func(x, y, w, b)\n",
    "print(z)"
   ]
  },
  {
   "cell_type": "code",
   "execution_count": 102,
   "id": "135f73ce-77da-4e3e-bd44-1562c365de0a",
   "metadata": {},
   "outputs": [],
   "source": [
    "def gradient_decent(x, y, w, b, alpha, iteration):\n",
    "    f_wb = np.dot(x, w) + b\n",
    "    dw = (np.sum((f_wb - y) * x)) / m\n",
    "    db = (np.sum(f_wb - y)) / m"
   ]
  },
  {
   "cell_type": "code",
   "execution_count": 112,
   "id": "53110b41-1804-4da3-b4e3-519c910d6a04",
   "metadata": {},
   "outputs": [
    {
     "ename": "ValueError",
     "evalue": "operands could not be broadcast together with shapes (3,) (3,4) ",
     "output_type": "error",
     "traceback": [
      "\u001b[1;31m---------------------------------------------------------------------------\u001b[0m",
      "\u001b[1;31mValueError\u001b[0m                                Traceback (most recent call last)",
      "Cell \u001b[1;32mIn[112], line 2\u001b[0m\n\u001b[0;32m      1\u001b[0m m \u001b[38;5;241m=\u001b[39m \u001b[38;5;241m4\u001b[39m\n\u001b[1;32m----> 2\u001b[0m dw \u001b[38;5;241m=\u001b[39m (np\u001b[38;5;241m.\u001b[39msum((f_wb \u001b[38;5;241m-\u001b[39m y)\u001b[38;5;241m*\u001b[39mx))\u001b[38;5;241m/\u001b[39m m\n\u001b[0;32m      3\u001b[0m db \u001b[38;5;241m=\u001b[39m (np\u001b[38;5;241m.\u001b[39msum(f_wb \u001b[38;5;241m-\u001b[39m y)) \u001b[38;5;241m/\u001b[39m m\n\u001b[0;32m      5\u001b[0m \u001b[38;5;28mprint\u001b[39m(dw)\n",
      "\u001b[1;31mValueError\u001b[0m: operands could not be broadcast together with shapes (3,) (3,4) "
     ]
    }
   ],
   "source": [
    "m = 4\n",
    "dw = (np.sum((f_wb - y)*x))/ m\n",
    "db = (np.sum(f_wb - y)) / m\n",
    "\n",
    "print(dw)"
   ]
  },
  {
   "cell_type": "code",
   "execution_count": null,
   "id": "cd0bae9a-b966-44b7-8123-a6a5d884ff3c",
   "metadata": {},
   "outputs": [],
   "source": []
  }
 ],
 "metadata": {
  "kernelspec": {
   "display_name": "Python [conda env:base] *",
   "language": "python",
   "name": "conda-base-py"
  },
  "language_info": {
   "codemirror_mode": {
    "name": "ipython",
    "version": 3
   },
   "file_extension": ".py",
   "mimetype": "text/x-python",
   "name": "python",
   "nbconvert_exporter": "python",
   "pygments_lexer": "ipython3",
   "version": "3.12.7"
  }
 },
 "nbformat": 4,
 "nbformat_minor": 5
}
